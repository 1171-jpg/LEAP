{
 "cells": [
  {
   "cell_type": "code",
   "execution_count": 12,
   "id": "c7d7d15d",
   "metadata": {},
   "outputs": [
    {
     "name": "stdout",
     "output_type": "stream",
     "text": [
      "The autoreload extension is already loaded. To reload it, use:\n",
      "  %reload_ext autoreload\n"
     ]
    }
   ],
   "source": [
    "import os\n",
    "import sys \n",
    "import numpy as np\n",
    "sys.path.append(\"..\") \n",
    "import openai\n",
    "import string\n",
    "from www.dataset.ann import *\n",
    "from tqdm import tqdm\n",
    "import time\n",
    "%load_ext autoreload\n",
    "%autoreload 2\n",
    "from collections import Counter\n",
    "from transformers import RobertaTokenizerFast\n",
    "tokenizer = RobertaTokenizerFast.from_pretrained('roberta-large')"
   ]
  },
  {
   "cell_type": "code",
   "execution_count": 8,
   "id": "e4dec736",
   "metadata": {},
   "outputs": [
    {
     "name": "stdout",
     "output_type": "stream",
     "text": [
      "The autoreload extension is already loaded. To reload it, use:\n",
      "  %reload_ext autoreload\n"
     ]
    }
   ],
   "source": [
    "%load_ext autoreload\n",
    "%autoreload 2"
   ]
  },
  {
   "cell_type": "code",
   "execution_count": 28,
   "id": "af5c34fd",
   "metadata": {},
   "outputs": [],
   "source": [
    "from Data_augmentation import *"
   ]
  },
  {
   "cell_type": "markdown",
   "id": "199cc8a6",
   "metadata": {},
   "source": [
    "### This code can be use to handle the result of finishing the participants extraction and attribute labeling. This code will combine separate labeling result together to get a clean and tidy augmentation data."
   ]
  },
  {
   "cell_type": "markdown",
   "id": "c0fa2b8a",
   "metadata": {},
   "source": [
    "## CSKG"
   ]
  },
  {
   "cell_type": "markdown",
   "id": "743a3f38",
   "metadata": {},
   "source": [
    "The corresponding labeling file should be under in   **Labeler/Attribute_Annotation/CSKG_effects**    \n",
    "and   **Labeler/Attribute_Annotation/CSKG_preconditions**"
   ]
  },
  {
   "cell_type": "code",
   "execution_count": 6,
   "id": "e7bd3c7e",
   "metadata": {},
   "outputs": [],
   "source": [
    "unlabled_cskg = np.load('../../Source_task/cskg_data.npy',allow_pickle = True)"
   ]
  },
  {
   "cell_type": "code",
   "execution_count": 16,
   "id": "7bcab297",
   "metadata": {},
   "outputs": [
    {
     "name": "stdout",
     "output_type": "stream",
     "text": [
      "Add input feature joint\n"
     ]
    },
    {
     "name": "stderr",
     "output_type": "stream",
     "text": [
      "100%|██████████| 3000/3000 [00:14<00:00, 209.97it/s]"
     ]
    },
    {
     "name": "stdout",
     "output_type": "stream",
     "text": [
      "45\n"
     ]
    },
    {
     "name": "stderr",
     "output_type": "stream",
     "text": [
      "\n"
     ]
    }
   ],
   "source": [
    "max_story_length = 3\n",
    "maxStoryLength = 50\n",
    "unlabled_cskg = add_input_feature_joint_dummy_cskg(unlabled_cskg,tokenizer,maxStoryLength,max_story_length)"
   ]
  },
  {
   "cell_type": "code",
   "execution_count": null,
   "id": "18417258",
   "metadata": {},
   "outputs": [],
   "source": [
    "Folder ='../../Labeler/Attribute_Annotation/CSKG_effects/'\n",
    "attribute_summary = []\n",
    "for attribute in list(att_to_idx.keys()):\n",
    "    attribute_summary.append(np.load(os.path.join(Folder,'{}.npy'.format(attribute)),allow_pickle = True))\n",
    "\n",
    "Folder ='../../Labeler/Attribute_Annotation/CSKG_preconditions/'\n",
    "attribute_summary_pre = []\n",
    "for attribute in list(att_to_idx.keys()):\n",
    "    attribute_summary_pre.append(np.load(os.path.join(Folder,'{}.npy'.format(attribute)),allow_pickle = True))"
   ]
  },
  {
   "cell_type": "code",
   "execution_count": null,
   "id": "b18306cb",
   "metadata": {},
   "outputs": [],
   "source": [
    "effect_summary = []\n",
    "for story_idx in range(6000):\n",
    "    story_summary = []\n",
    "    for entity_idx in range(len(attribute_summary[0][story_idx])):\n",
    "        entity_summary = []\n",
    "        for attribute_idx in range(20):\n",
    "            if attribute_idx != 5:\n",
    "                entity_summary.append([_ if _ <3 else 2 for _  in attribute_summary[attribute_idx][story_idx][entity_idx]])\n",
    "            else:\n",
    "                entity_summary.append([_ if _ <9 else 8 for _ in attribute_summary[attribute_idx][story_idx][entity_idx]])\n",
    "        story_summary.append(entity_summary)\n",
    "    effect_summary.append(story_summary)\n",
    "    \n",
    "    \n",
    "prec_summary = []\n",
    "for story_idx in range(6000):\n",
    "    story_summary = []\n",
    "    for entity_idx in range(len(attribute_summary_pre[0][story_idx])):\n",
    "        entity_summary = []\n",
    "        for attribute_idx in range(20):\n",
    "            if attribute_idx !=5:\n",
    "                entity_summary.append([_ if _ <3 else 2 for _  in attribute_summary_pre[attribute_idx][story_idx][entity_idx]])\n",
    "            else:\n",
    "                entity_summary.append([_ if _ <9 else 8 for _ in attribute_summary_pre[attribute_idx][story_idx][entity_idx]])\n",
    "        story_summary.append(entity_summary)\n",
    "    prec_summary.append(story_summary)"
   ]
  },
  {
   "cell_type": "code",
   "execution_count": null,
   "id": "f530a429",
   "metadata": {},
   "outputs": [],
   "source": [
    "for index,sample_data in tqdm(enumerate(unlabled_cskg)):\n",
    "    for temp_index,input_data in enumerate(sample_data['cskg_input_1']):\n",
    "        input_data['precondition'] = transform(prec_summary[index*2][temp_index])\n",
    "        input_data['effect'] = transform(effect_summary[index*2][temp_index])\n",
    "    for temp_index,input_data in enumerate(sample_data['cskg_input_2']):\n",
    "        input_data['precondition'] = transform(prec_summary[index*2+1][temp_index])\n",
    "        input_data['effect'] = transform(effect_summary[index*2+1][temp_index])  "
   ]
  },
  {
   "cell_type": "code",
   "execution_count": null,
   "id": "5f98a04a",
   "metadata": {},
   "outputs": [],
   "source": [
    "np.save('cskg_label_ijcai_train.npy',unlabled_cskg)"
   ]
  },
  {
   "cell_type": "markdown",
   "id": "bbf5daeb",
   "metadata": {},
   "source": [
    "## ROCStoires"
   ]
  },
  {
   "cell_type": "markdown",
   "id": "c1f5282b",
   "metadata": {},
   "source": [
    "The corresponding labeling file should be under in   **Labeler/Attribute_Annotation/ROC_effects**    \n",
    "and   **Labeler/Attribute_Annotation/ROC_preconditions**"
   ]
  },
  {
   "cell_type": "code",
   "execution_count": 23,
   "id": "d2d3054b",
   "metadata": {},
   "outputs": [],
   "source": [
    "unlabled_roc = np.load('../../Labeler/Participant_Extraction/Final_Participant/ROC_Participant_IJCAI.npy',allow_pickle = True)"
   ]
  },
  {
   "cell_type": "code",
   "execution_count": 29,
   "id": "0c2c8f23",
   "metadata": {},
   "outputs": [
    {
     "name": "stdout",
     "output_type": "stream",
     "text": [
      "Add input feature joint\n"
     ]
    },
    {
     "name": "stderr",
     "output_type": "stream",
     "text": [
      "100%|██████████| 1871/1871 [00:20<00:00, 92.09it/s] "
     ]
    },
    {
     "name": "stdout",
     "output_type": "stream",
     "text": [
      "93\n"
     ]
    },
    {
     "name": "stderr",
     "output_type": "stream",
     "text": [
      "\n"
     ]
    }
   ],
   "source": [
    "max_story_length = 5\n",
    "maxStoryLength = 100\n",
    "unlabled_roc = add_input_feature_joint_dummy_roc(unlabled_roc,tokenizer,maxStoryLength,max_story_length)"
   ]
  },
  {
   "cell_type": "code",
   "execution_count": null,
   "id": "8647c88e",
   "metadata": {},
   "outputs": [],
   "source": [
    "Folder ='../../Labeler/Attribute_Annotation/ROC_effects/'\n",
    "attribute_summary = []\n",
    "for attribute in list(att_to_idx.keys()):\n",
    "    attribute_summary.append(np.load(os.path.join(Folder,'{}.npy'.format(attribute)),allow_pickle = True))\n",
    "\n",
    "Folder ='../../Labeler/Attribute_Annotation/ROC_preconditions/'\n",
    "attribute_summary_pre = []\n",
    "for attribute in list(att_to_idx.keys()):\n",
    "    attribute_summary_pre.append(np.load(os.path.join(Folder,'{}.npy'.format(attribute)),allow_pickle = True))"
   ]
  },
  {
   "cell_type": "code",
   "execution_count": null,
   "id": "1759076b",
   "metadata": {},
   "outputs": [],
   "source": [
    "effect_summary = []\n",
    "for story_idx in range(3742):\n",
    "    story_summary = []\n",
    "    for entity_idx in range(len(attribute_summary[0][story_idx])):\n",
    "        entity_summary = []\n",
    "        for attribute_idx in range(20):\n",
    "            if attribute_idx != 5:\n",
    "                entity_summary.append([_ if _ <3 else 2 for _  in attribute_summary[attribute_idx][story_idx][entity_idx]])\n",
    "            else:\n",
    "                entity_summary.append([_ if _ <9 else 8 for _ in attribute_summary[attribute_idx][story_idx][entity_idx]])\n",
    "        story_summary.append(entity_summary)\n",
    "    effect_summary.append(story_summary)\n",
    "    \n",
    "    \n",
    "prec_summary = []\n",
    "for story_idx in range(3742):\n",
    "    story_summary = []\n",
    "    for entity_idx in range(len(attribute_summary_pre[0][story_idx])):\n",
    "        entity_summary = []\n",
    "        for attribute_idx in range(20):\n",
    "            if attribute_idx !=5:\n",
    "                entity_summary.append([_ if _ <3 else 2 for _  in attribute_summary_pre[attribute_idx][story_idx][entity_idx]])\n",
    "            else:\n",
    "                entity_summary.append([_ if _ <9 else 8 for _ in attribute_summary_pre[attribute_idx][story_idx][entity_idx]])\n",
    "        story_summary.append(entity_summary)\n",
    "    prec_summary.append(story_summary)"
   ]
  },
  {
   "cell_type": "code",
   "execution_count": null,
   "id": "95c121ee",
   "metadata": {},
   "outputs": [],
   "source": [
    "for index,sample_data in tqdm(enumerate(unlabled_roc)):\n",
    "    for temp_index,input_data in enumerate(sample_data['cskg_input_1']):\n",
    "        input_data['precondition'] = transform(prec_summary[index*2][temp_index])\n",
    "        input_data['effect'] = transform(effect_summary[index*2][temp_index])\n",
    "    for temp_index,input_data in enumerate(sample_data['cskg_input_2']):\n",
    "        input_data['precondition'] = transform(prec_summary[index*2+1][temp_index])\n",
    "        input_data['effect'] = transform(effect_summary[index*2+1][temp_index])  "
   ]
  },
  {
   "cell_type": "code",
   "execution_count": null,
   "id": "2867ae34",
   "metadata": {},
   "outputs": [],
   "source": [
    "np.save('roc_label_ijcai_train.npy',unlabled_roc)"
   ]
  }
 ],
 "metadata": {
  "kernelspec": {
   "display_name": "Python 3 (ipykernel)",
   "language": "python",
   "name": "python3"
  },
  "language_info": {
   "codemirror_mode": {
    "name": "ipython",
    "version": 3
   },
   "file_extension": ".py",
   "mimetype": "text/x-python",
   "name": "python",
   "nbconvert_exporter": "python",
   "pygments_lexer": "ipython3",
   "version": "3.7.13"
  }
 },
 "nbformat": 4,
 "nbformat_minor": 5
}
